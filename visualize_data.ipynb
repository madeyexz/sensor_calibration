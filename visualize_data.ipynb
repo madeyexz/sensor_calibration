{
 "cells": [
  {
   "cell_type": "code",
   "execution_count": null,
   "metadata": {},
   "outputs": [
    {
     "ename": "",
     "evalue": "",
     "output_type": "error",
     "traceback": [
      "\u001b[1;31mRunning cells with '.venv (Python 3.13.0)' requires the ipykernel package.\n",
      "\u001b[1;31mRun the following command to install 'ipykernel' into the Python environment. \n",
      "\u001b[1;31mCommand: '/Users/ianhsiao/Documents/毕业论文/code/.venv/bin/python -m pip install ipykernel -U --force-reinstall'"
     ]
    }
   ],
   "source": [
    "import numpy as np\n",
    "import pandas as pd"
   ]
  },
  {
   "cell_type": "code",
   "execution_count": null,
   "metadata": {},
   "outputs": [],
   "source": [
    "def load_npz_to_dataframe(npz_file_path):\n",
    "    \"\"\"\n",
    "    Load data from a .npz file into a pandas DataFrame\n",
    "    \n",
    "    Args:\n",
    "        npz_file_path (str): Path to the .npz file\n",
    "        \n",
    "    Returns:\n",
    "        pd.DataFrame: DataFrame containing the data from the .npz file\n",
    "    \"\"\"\n",
    "    # Load the npz file\n",
    "    data = np.load(npz_file_path)\n",
    "    \n",
    "    # Convert the arrays in the npz file to a dictionary\n",
    "    # Flatten any multi-dimensional arrays\n",
    "    data_dict = {}\n",
    "    for key in data.files:\n",
    "        arr = data[key]\n",
    "        if arr.ndim > 1:\n",
    "            # For 2D+ arrays, flatten them and create multiple columns\n",
    "            for i in range(arr.shape[1]):\n",
    "                data_dict[f\"{key}_{i}\"] = arr[:, i]\n",
    "        else:\n",
    "            data_dict[key] = arr\n",
    "    \n",
    "    # Create DataFrame from the dictionary\n",
    "    df = pd.DataFrame(data_dict)\n",
    "    \n",
    "    return df"
   ]
  },
  {
   "cell_type": "code",
   "execution_count": null,
   "metadata": {},
   "outputs": [],
   "source": [
    "df = load_npz_to_dataframe(\"data/2021051202_merged.npz\")\n",
    "    print(df.head())\n",
    "    print(df.shape)\n",
    "    print(df.keys())"
   ]
  }
 ],
 "metadata": {
  "kernelspec": {
   "display_name": ".venv",
   "language": "python",
   "name": "python3"
  },
  "language_info": {
   "name": "python",
   "version": "3.13.0"
  }
 },
 "nbformat": 4,
 "nbformat_minor": 2
}
